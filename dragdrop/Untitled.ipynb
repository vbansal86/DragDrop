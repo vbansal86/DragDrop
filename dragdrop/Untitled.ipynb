{
 "cells": [
  {
   "cell_type": "code",
   "execution_count": 10,
   "metadata": {},
   "outputs": [],
   "source": [
    "\n",
    "import tkinter as tk\n",
    "\n",
    "from tkinter import *  \n",
    "from PIL import ImageTk,Image\n",
    "\n",
    "root = Tk()\n",
    "canvas = Canvas(root, width=500, height=500)\n",
    "canvas.pack()\n",
    "\n",
    "\n",
    "img = Image.open(\"C:\\\\Users\\\\vbdon\\\\Documents\\\\Deep Learning\\\\dragdrop\\\\Prescription324523.png\") \n"
   ]
  },
  {
   "cell_type": "code",
   "execution_count": null,
   "metadata": {},
   "outputs": [],
   "source": [
    "img.crop()\n",
    "img.save()\n",
    "tk.Canvas.\n",
    "\n",
    "Entry()"
   ]
  },
  {
   "cell_type": "code",
   "execution_count": 5,
   "metadata": {},
   "outputs": [],
   "source": [
    "#import tkinter as tk\n",
    "\n",
    "# if you are still working under a Python 2 version, \n",
    "# comment out the previous line and uncomment the following line\n",
    "import tkinter as tk\n",
    "\n",
    "root = tk.Tk()\n",
    "\n",
    "w = tk.Label(root, text=\"Hello Tkinter!\")\n",
    "w.pack()\n",
    "\n",
    "root.mainloop()\n"
   ]
  },
  {
   "cell_type": "code",
   "execution_count": 6,
   "metadata": {},
   "outputs": [
    {
     "name": "stdout",
     "output_type": "stream",
     "text": [
      "Single Click, Button-l\n",
      "Single Click, Button-l\n",
      "Double Click, so let's stop\n"
     ]
    },
    {
     "ename": "SystemExit",
     "evalue": "",
     "output_type": "error",
     "traceback": [
      "An exception has occurred, use %tb to see the full traceback.\n",
      "\u001b[1;31mSystemExit\u001b[0m\n"
     ]
    },
    {
     "name": "stderr",
     "output_type": "stream",
     "text": [
      "C:\\Users\\vbdon\\Anaconda3\\envs\\tensorflow\\lib\\site-packages\\IPython\\core\\interactiveshell.py:2918: UserWarning: To exit: use 'exit', 'quit', or Ctrl-D.\n",
      "  warn(\"To exit: use 'exit', 'quit', or Ctrl-D.\", stacklevel=1)\n"
     ]
    }
   ],
   "source": [
    "from tkinter import *\n",
    "def hello(event):\n",
    "    print(\"Single Click, Button-l\") \n",
    "def quit(event):                           \n",
    "    print(\"Double Click, so let's stop\") \n",
    "    import sys; sys.exit() \n",
    "\n",
    "widget = Button(None, text='Mouse Clicks')\n",
    "widget.pack()\n",
    "widget.bind('<Button-1>', hello)\n",
    "widget.bind('<Double-1>', quit) \n",
    "widget.mainloop()"
   ]
  },
  {
   "cell_type": "code",
   "execution_count": 5,
   "metadata": {},
   "outputs": [
    {
     "name": "stdout",
     "output_type": "stream",
     "text": [
      "Mouse position: (346 228)\n",
      "Mouse position: (345 228)\n",
      "Mouse position: (344 228)\n"
     ]
    }
   ],
   "source": [
    "from tkinter import *\n",
    "\n",
    "def motion(event):\n",
    "  print(\"Mouse position: (%s %s)\" % (event.x, event.y))\n",
    "  return\n",
    "\n",
    "master = Tk()\n",
    "whatever_you_do = \"Whatever you do will be insignificant, but it is very important that you do it and do it in syule lfdffdlfkldfkdgn fgfdkgj k.\\n(Mahatma Gandhi)\"\n",
    "msg = Message(master, text = whatever_you_do)\n",
    "msg.config(bg='lightgreen', font=('times', 24, 'italic'))\n",
    "msg.bind('<Motion>',motion)\n",
    "msg.pack()\n",
    "mainloop()"
   ]
  },
  {
   "cell_type": "code",
   "execution_count": 13,
   "metadata": {},
   "outputs": [],
   "source": [
    "from tkinter import *\n",
    "\n",
    "def set_text(text):\n",
    "    e.delete(0,END)\n",
    "    e.insert(0,text)\n",
    "    return\n",
    "\n",
    "win = Tk()\n",
    "\n",
    "e = Entry(win,width=10)\n",
    "e.pack()\n",
    "\n",
    "b1 = Button(win,text=\"animal\",command=lambda:set_text(\"animal\"))\n",
    "b1.pack()\n",
    "\n",
    "b2 = Button(win,text=\"plant\",command=lambda:set_text(\"plant\"))\n",
    "b2.pack()\n",
    "\n",
    "win.mainloop()"
   ]
  },
  {
   "cell_type": "code",
   "execution_count": null,
   "metadata": {},
   "outputs": [],
   "source": []
  },
  {
   "cell_type": "code",
   "execution_count": null,
   "metadata": {},
   "outputs": [],
   "source": []
  }
 ],
 "metadata": {
  "kernelspec": {
   "display_name": "Python 3",
   "language": "python",
   "name": "python3"
  },
  "language_info": {
   "codemirror_mode": {
    "name": "ipython",
    "version": 3
   },
   "file_extension": ".py",
   "mimetype": "text/x-python",
   "name": "python",
   "nbconvert_exporter": "python",
   "pygments_lexer": "ipython3",
   "version": "3.5.4"
  }
 },
 "nbformat": 4,
 "nbformat_minor": 2
}
